{
  "nbformat": 4,
  "nbformat_minor": 0,
  "metadata": {
    "colab": {
      "provenance": []
    },
    "kernelspec": {
      "name": "python3",
      "display_name": "Python 3"
    },
    "language_info": {
      "name": "python"
    }
  },
  "cells": [
    {
      "cell_type": "code",
      "execution_count": 1,
      "metadata": {
        "colab": {
          "base_uri": "https://localhost:8080/"
        },
        "id": "uylrm2pMg8eT",
        "outputId": "f7b102ab-cadb-45de-f886-f02ce04af9fc"
      },
      "outputs": [
        {
          "output_type": "stream",
          "name": "stdout",
          "text": [
            "Looking in indexes: https://pypi.org/simple, https://us-python.pkg.dev/colab-wheels/public/simple/\n",
            "Collecting pydicom\n",
            "  Downloading pydicom-2.3.1-py3-none-any.whl (2.0 MB)\n",
            "\u001b[2K     \u001b[90m━━━━━━━━━━━━━━━━━━━━━━━━━━━━━━━━━━━━━━━━\u001b[0m \u001b[32m2.0/2.0 MB\u001b[0m \u001b[31m19.7 MB/s\u001b[0m eta \u001b[36m0:00:00\u001b[0m\n",
            "\u001b[?25hInstalling collected packages: pydicom\n",
            "Successfully installed pydicom-2.3.1\n",
            "Looking in indexes: https://pypi.org/simple, https://us-python.pkg.dev/colab-wheels/public/simple/\n",
            "Collecting voxelmorph\n",
            "  Downloading voxelmorph-0.2-py3-none-any.whl (54 kB)\n",
            "\u001b[2K     \u001b[90m━━━━━━━━━━━━━━━━━━━━━━━━━━━━━━━━━━━━━━━━\u001b[0m \u001b[32m54.2/54.2 kB\u001b[0m \u001b[31m3.1 MB/s\u001b[0m eta \u001b[36m0:00:00\u001b[0m\n",
            "\u001b[?25hRequirement already satisfied: packaging in /usr/local/lib/python3.10/dist-packages (from voxelmorph) (23.1)\n",
            "Requirement already satisfied: scikit-image in /usr/local/lib/python3.10/dist-packages (from voxelmorph) (0.19.3)\n",
            "Requirement already satisfied: h5py in /usr/local/lib/python3.10/dist-packages (from voxelmorph) (3.8.0)\n",
            "Requirement already satisfied: numpy in /usr/local/lib/python3.10/dist-packages (from voxelmorph) (1.22.4)\n",
            "Requirement already satisfied: scipy in /usr/local/lib/python3.10/dist-packages (from voxelmorph) (1.10.1)\n",
            "Requirement already satisfied: nibabel in /usr/local/lib/python3.10/dist-packages (from voxelmorph) (3.0.2)\n",
            "Collecting neurite>=0.2 (from voxelmorph)\n",
            "  Downloading neurite-0.2-py3-none-any.whl (108 kB)\n",
            "\u001b[2K     \u001b[90m━━━━━━━━━━━━━━━━━━━━━━━━━━━━━━━━━━━━━━━\u001b[0m \u001b[32m108.9/108.9 kB\u001b[0m \u001b[31m3.6 MB/s\u001b[0m eta \u001b[36m0:00:00\u001b[0m\n",
            "\u001b[?25hRequirement already satisfied: six in /usr/local/lib/python3.10/dist-packages (from neurite>=0.2->voxelmorph) (1.16.0)\n",
            "Requirement already satisfied: tqdm in /usr/local/lib/python3.10/dist-packages (from neurite>=0.2->voxelmorph) (4.65.0)\n",
            "Requirement already satisfied: matplotlib in /usr/local/lib/python3.10/dist-packages (from neurite>=0.2->voxelmorph) (3.7.1)\n",
            "Requirement already satisfied: scikit-learn in /usr/local/lib/python3.10/dist-packages (from neurite>=0.2->voxelmorph) (1.2.2)\n",
            "Collecting pystrum>=0.2 (from neurite>=0.2->voxelmorph)\n",
            "  Downloading pystrum-0.3.tar.gz (17 kB)\n",
            "  Preparing metadata (setup.py) ... \u001b[?25l\u001b[?25hdone\n",
            "Requirement already satisfied: networkx>=2.2 in /usr/local/lib/python3.10/dist-packages (from scikit-image->voxelmorph) (3.1)\n",
            "Requirement already satisfied: pillow!=7.1.0,!=7.1.1,!=8.3.0,>=6.1.0 in /usr/local/lib/python3.10/dist-packages (from scikit-image->voxelmorph) (8.4.0)\n",
            "Requirement already satisfied: imageio>=2.4.1 in /usr/local/lib/python3.10/dist-packages (from scikit-image->voxelmorph) (2.25.1)\n",
            "Requirement already satisfied: tifffile>=2019.7.26 in /usr/local/lib/python3.10/dist-packages (from scikit-image->voxelmorph) (2023.4.12)\n",
            "Requirement already satisfied: PyWavelets>=1.1.1 in /usr/local/lib/python3.10/dist-packages (from scikit-image->voxelmorph) (1.4.1)\n",
            "Requirement already satisfied: contourpy>=1.0.1 in /usr/local/lib/python3.10/dist-packages (from matplotlib->neurite>=0.2->voxelmorph) (1.0.7)\n",
            "Requirement already satisfied: cycler>=0.10 in /usr/local/lib/python3.10/dist-packages (from matplotlib->neurite>=0.2->voxelmorph) (0.11.0)\n",
            "Requirement already satisfied: fonttools>=4.22.0 in /usr/local/lib/python3.10/dist-packages (from matplotlib->neurite>=0.2->voxelmorph) (4.39.3)\n",
            "Requirement already satisfied: kiwisolver>=1.0.1 in /usr/local/lib/python3.10/dist-packages (from matplotlib->neurite>=0.2->voxelmorph) (1.4.4)\n",
            "Requirement already satisfied: pyparsing>=2.3.1 in /usr/local/lib/python3.10/dist-packages (from matplotlib->neurite>=0.2->voxelmorph) (3.0.9)\n",
            "Requirement already satisfied: python-dateutil>=2.7 in /usr/local/lib/python3.10/dist-packages (from matplotlib->neurite>=0.2->voxelmorph) (2.8.2)\n",
            "Requirement already satisfied: joblib>=1.1.1 in /usr/local/lib/python3.10/dist-packages (from scikit-learn->neurite>=0.2->voxelmorph) (1.2.0)\n",
            "Requirement already satisfied: threadpoolctl>=2.0.0 in /usr/local/lib/python3.10/dist-packages (from scikit-learn->neurite>=0.2->voxelmorph) (3.1.0)\n",
            "Building wheels for collected packages: pystrum\n",
            "  Building wheel for pystrum (setup.py) ... \u001b[?25l\u001b[?25hdone\n",
            "  Created wheel for pystrum: filename=pystrum-0.3-py3-none-any.whl size=19530 sha256=9d7120135bcc1ba2d1a47664937005659570705b233ce2d69b5b38bdfa3a3f4c\n",
            "  Stored in directory: /root/.cache/pip/wheels/33/42/e2/6312e2cd3efadacc2714759efc7c7dc1513db7853e8bd508f6\n",
            "Successfully built pystrum\n",
            "Installing collected packages: pystrum, neurite, voxelmorph\n",
            "Successfully installed neurite-0.2 pystrum-0.3 voxelmorph-0.2\n"
          ]
        }
      ],
      "source": [
        "#libraries\n",
        "import numpy as np \n",
        "import pandas as pd\n",
        "import cv2 as cv\n",
        "import matplotlib.pyplot as plt\n",
        "%matplotlib inline\n",
        "import seaborn as sns\n",
        "import os\n",
        "\n",
        "!pip install pydicom\n",
        "import glob\n",
        "import pydicom\n",
        "from PIL import Image\n",
        "\n",
        "# local imports\n",
        "# install voxelmorph, which will also install dependencies: neurite and pystrum\n",
        "!pip install voxelmorph \n",
        "import voxelmorph as vxm\n",
        "import neurite as ne\n",
        "\n",
        "# imports\n",
        "import os, sys\n",
        "\n",
        "# third party imports\n",
        "import numpy as np\n",
        "import tensorflow as tf\n",
        "assert tf.__version__.startswith('2.'), 'This tutorial assumes Tensorflow 2.0+'"
      ]
    },
    {
      "cell_type": "code",
      "source": [
        "from google.colab import drive\n",
        "drive.mount('/content/drive')"
      ],
      "metadata": {
        "colab": {
          "base_uri": "https://localhost:8080/"
        },
        "id": "VjDnEBBehA80",
        "outputId": "9fe01159-70d6-4542-84a4-d3bb5be5c8ab"
      },
      "execution_count": 2,
      "outputs": [
        {
          "output_type": "stream",
          "name": "stdout",
          "text": [
            "Mounted at /content/drive\n"
          ]
        }
      ]
    },
    {
      "cell_type": "code",
      "source": [
        "def getImages(folder):\n",
        "  os.chdir(f'/content/drive/My Drive/final_project_data/{folder}')\n",
        "  images = []\n",
        "  for img_path in glob.glob(\"*.JPG\"):\n",
        "    img = Image.open(img_path)\n",
        "    img = img.resize((256,256))\n",
        "    img = img.convert('L')\n",
        "    images.append(img)\n",
        "  for img_path in glob.glob(\"*.png\"):\n",
        "    img = Image.open(img_path)\n",
        "    img = img.resize((256,256))\n",
        "    img = img.convert('L')\n",
        "    images.append(img)\n",
        "  for img_path in glob.glob(\"*.jpg\"):\n",
        "    img = Image.open(img_path)\n",
        "    img = img.resize((256,256))\n",
        "    img = img.convert('L')\n",
        "    images.append(img)\n",
        "  return images"
      ],
      "metadata": {
        "id": "eUDW6IGyhEzw"
      },
      "execution_count": 3,
      "outputs": []
    },
    {
      "cell_type": "code",
      "source": [
        "import torch\n",
        "import torch.nn as nn\n",
        "import torch.functional as F\n",
        "import torch.optim as optim\n",
        "\n",
        "\n",
        "class ImageRegistrationNet(nn.Module):\n",
        "    def __init__(self):\n",
        "        super(ImageRegistrationNet, self).__init__()\n",
        "\n",
        "        # Contracting path\n",
        "        self.contracting1 = self.contracting_block(3, 64)   # Contracting block 1\n",
        "        self.contracting2 = self.contracting_block(64, 128)  # Contracting block 2\n",
        "        self.contracting3 = self.contracting_block(128, 256) # Contracting block 3\n",
        "        self.contracting4 = self.contracting_block(256, 512) # Contracting block 4\n",
        "\n",
        "        # Expanding path\n",
        "        self.expanding1 = self.expanding_block(512, 256)     # Expanding block 1\n",
        "        self.expanding2 = self.expanding_block(256, 128)     # Expanding block 2\n",
        "        self.expanding3 = self.expanding_block(128, 64)      # Expanding block 3\n",
        "\n",
        "        # Final convolutional layer\n",
        "        self.final_conv = nn.Conv2d(64, 3, kernel_size=1)     # Final convolutional layer\n",
        "\n",
        "    def contracting_block(self, in_channels, out_channels):\n",
        "        \"\"\"\n",
        "        Contracting block consists of two convolutional layers with ReLU activation and max pooling.\n",
        "        \"\"\"\n",
        "        block = nn.Sequential(\n",
        "            nn.Conv2d(in_channels, out_channels, kernel_size=3, padding=1),\n",
        "            nn.ReLU(inplace=True),\n",
        "            nn.Conv2d(out_channels, out_channels, kernel_size=3, padding=1),\n",
        "            nn.ReLU(inplace=True),\n",
        "            nn.MaxPool2d(kernel_size=2, stride=2)\n",
        "        )\n",
        "        return block\n",
        "\n",
        "    def expanding_block(self, in_channels, out_channels):\n",
        "        \"\"\"\n",
        "        Expanding block consists of two convolutional layers with ReLU activation and transpose convolution for upsampling.\n",
        "        \"\"\"\n",
        "        block = nn.Sequential(\n",
        "            nn.Conv2d(in_channels, out_channels, kernel_size=3, padding=1),\n",
        "            nn.ReLU(inplace=True),\n",
        "            nn.Conv2d(out_channels, out_channels, kernel_size=3, padding=1),\n",
        "            nn.ReLU(inplace=True),\n",
        "            nn.ConvTranspose2d(out_channels, in_channels, kernel_size=2, stride=2)\n",
        "        )\n",
        "        return block\n",
        "\n",
        "    def forward(self, x):\n",
        "        # Contracting path\n",
        "        print(x.shape)\n",
        "        x1 = self.contracting1(x)                             # Apply contracting block 1\n",
        "        print(f\"x1: {x1.shape}\")\n",
        "        x2 = self.contracting2(x1)                            # Apply contracting block 2\n",
        "        print(f\"x2: {x2.shape}\")\n",
        "        x3 = self.contracting3(x2)                            # Apply contracting block 3\n",
        "        print(f\"x3: {x3.shape}\")\n",
        "        x4 = self.contracting4(x3)                            # Apply contracting block 4\n",
        "        print(f\"x4: {x4.shape}\")\n",
        "\n",
        "        # Expanding path\n",
        "        x = self.expanding1(x4)                               # Apply expanding block 1\n",
        "        print(f\"x: {x.shape}\")\n",
        "        x = self.expanding2(torch.cat([x, x3], dim=1))        # Concatenate features from contracting block 3 and apply expanding block 2\n",
        "        print(f\"x: {x.shape}\")\n",
        "        x = self.expanding3(torch.cat([x, x2], dim=1))        # Concatenate features from contracting block 2 and apply expanding block 3\n",
        "        print(f\"x: {x.shape}\")\n",
        "\n",
        "        # Final convolution\n",
        "        x = self.final_conv(x)                                # Apply final convolutional layer\n",
        "\n",
        "        return x"
      ],
      "metadata": {
        "id": "NWcx-w-DhFKm"
      },
      "execution_count": 4,
      "outputs": []
    },
    {
      "cell_type": "code",
      "source": [
        "def train(model, train_loader, optimizer,num_epochs,criterion):\n",
        "    #criterion = nn.MSELoss()  # Example loss function, you can replace it with your own\n",
        "\n",
        "    device = torch.device(\"cuda\" if torch.cuda.is_available() else \"cpu\")\n",
        "    model.to(device)\n",
        "\n",
        "    for epoch in range(num_epochs):\n",
        "        running_loss = 0.0\n",
        "\n",
        "        for inputs, targets in train_loader:\n",
        "            inputs = inputs.to(device)\n",
        "            targets = targets.to(device)\n",
        "\n",
        "            optimizer.zero_grad()\n",
        "\n",
        "            # Forward pass\n",
        "            outputs = model(inputs)\n",
        "\n",
        "            # Compute the loss\n",
        "            loss = criterion(outputs, targets)\n",
        "\n",
        "            # Backward pass and optimization\n",
        "            loss.backward()\n",
        "            optimizer.step()\n",
        "\n",
        "            running_loss += loss.item()\n",
        "\n",
        "        # Compute the average loss for the epoch\n",
        "        epoch_loss = running_loss / len(train_loader)\n",
        "\n",
        "        # Print the loss for every epoch\n",
        "        print(f\"Epoch [{epoch+1}/{num_epochs}], Loss: {epoch_loss}\")\n"
      ],
      "metadata": {
        "id": "SscGHU2ih-Cr"
      },
      "execution_count": 25,
      "outputs": []
    },
    {
      "cell_type": "code",
      "source": [
        "import torch\n",
        "import torchvision.transforms as transforms\n",
        "from torchvision.datasets import ImageFolder\n",
        "from torch.utils.data import DataLoader, Dataset\n",
        "import random\n",
        "\n",
        "# Define the transforms to be applied to the images\n",
        "transform = transforms.Compose([\n",
        "    transforms.Resize((256, 256)),       # Resize the images to a fixed size\n",
        "    #transforms.Grayscale(),               # Convert images to grayscale\n",
        "    transforms.ToTensor()                  # Convert images to tensors\n",
        "])\n",
        "\n",
        "# Set the paths to your folders containing the images\n",
        "folder1_path = \"/content/drive/MyDrive/final_project_data/Posture/left\"\n",
        "folder2_path = \"/content/drive/MyDrive/final_project_data/Posture/back\"\n",
        "\n",
        "# Create custom dataset class for paired images\n",
        "class PairedImageDataset(Dataset):\n",
        "    def __init__(self, folder1_path, folder2_path, transform=None):\n",
        "        self.folder1_dataset = ImageFolder(folder1_path, transform=transform)\n",
        "        self.folder2_dataset = ImageFolder(folder2_path, transform=transform)\n",
        "        self.transform = transform\n",
        "\n",
        "    def __getitem__(self, index):\n",
        "        img1, _ = self.folder1_dataset[random.randint(0, len(self.folder1_dataset) - 1)]\n",
        "        img2, _ = self.folder2_dataset[random.randint(0, len(self.folder2_dataset) - 1)]\n",
        "        return img1, img2\n",
        "\n",
        "    def __len__(self):\n",
        "        return max(len(self.folder1_dataset), len(self.folder2_dataset))\n",
        "\n",
        "# Create the paired dataset\n",
        "paired_dataset = PairedImageDataset(folder1_path, folder2_path, transform=transform)\n",
        "\n",
        "# Create the train_loader\n",
        "batch_size = 1   # Set your desired batch size\n",
        "train_loader = DataLoader(paired_dataset, batch_size=batch_size, shuffle=True)\n"
      ],
      "metadata": {
        "id": "VFJQHI6piwL8"
      },
      "execution_count": 6,
      "outputs": []
    },
    {
      "cell_type": "code",
      "source": [
        "def Print2Loader(train_loader):\n",
        "  first,second = next(iter(train_loader))\n",
        "  print(first.shape)\n",
        "  print(second.shape)\n",
        "\n",
        "  # Create a figure with two subplots\n",
        "  fig, axs = plt.subplots(1, 2)\n",
        "\n",
        "  # Plot image1 in the first subplot\n",
        "  first = first.squeeze().permute(1, 2, 0)\n",
        "  second = second.squeeze().permute(1,2,0)\n",
        "  axs[0].imshow(first)\n",
        "  axs[0].axis('off')\n",
        "\n",
        "  # Plot image2 in the second subplot\n",
        "  axs[1].imshow(second)\n",
        "  axs[1].axis('off')\n",
        "\n",
        "  # Adjust the spacing between subplots\n",
        "  plt.subplots_adjust(wspace=0.05)\n",
        "\n",
        "  # Display the figure\n",
        "  plt.show()"
      ],
      "metadata": {
        "id": "wTD3bS-ckjfG"
      },
      "execution_count": 7,
      "outputs": []
    },
    {
      "cell_type": "code",
      "source": [
        "model = ImageRegistrationNet()\n",
        "\n",
        "# lr = 0.001\n",
        "# momentum = 0.9\n",
        "# optimizer = optim.SGD(model.parameters(),lr=lr,momentum=momentum)\n",
        "# train(model,train_loader,optimizer,1)\n",
        "input_tensor = torch.randn(1, 3, 256, 256)\n",
        "output_tensor = model(input_tensor)"
      ],
      "metadata": {
        "colab": {
          "base_uri": "https://localhost:8080/",
          "height": 467
        },
        "id": "_vJ-o1sXa15-",
        "outputId": "f601d55a-9467-4bc7-e5a1-7b3b49c9e589"
      },
      "execution_count": 8,
      "outputs": [
        {
          "output_type": "stream",
          "name": "stdout",
          "text": [
            "torch.Size([1, 3, 256, 256])\n",
            "x1: torch.Size([1, 64, 128, 128])\n",
            "x2: torch.Size([1, 128, 64, 64])\n",
            "x3: torch.Size([1, 256, 32, 32])\n",
            "x4: torch.Size([1, 512, 16, 16])\n",
            "x: torch.Size([1, 512, 32, 32])\n"
          ]
        },
        {
          "output_type": "error",
          "ename": "RuntimeError",
          "evalue": "ignored",
          "traceback": [
            "\u001b[0;31m---------------------------------------------------------------------------\u001b[0m",
            "\u001b[0;31mRuntimeError\u001b[0m                              Traceback (most recent call last)",
            "\u001b[0;32m<ipython-input-8-c7d7ef6cb489>\u001b[0m in \u001b[0;36m<cell line: 8>\u001b[0;34m()\u001b[0m\n\u001b[1;32m      6\u001b[0m \u001b[0;31m# train(model,train_loader,optimizer,1)\u001b[0m\u001b[0;34m\u001b[0m\u001b[0;34m\u001b[0m\u001b[0m\n\u001b[1;32m      7\u001b[0m \u001b[0minput_tensor\u001b[0m \u001b[0;34m=\u001b[0m \u001b[0mtorch\u001b[0m\u001b[0;34m.\u001b[0m\u001b[0mrandn\u001b[0m\u001b[0;34m(\u001b[0m\u001b[0;36m1\u001b[0m\u001b[0;34m,\u001b[0m \u001b[0;36m3\u001b[0m\u001b[0;34m,\u001b[0m \u001b[0;36m256\u001b[0m\u001b[0;34m,\u001b[0m \u001b[0;36m256\u001b[0m\u001b[0;34m)\u001b[0m\u001b[0;34m\u001b[0m\u001b[0;34m\u001b[0m\u001b[0m\n\u001b[0;32m----> 8\u001b[0;31m \u001b[0moutput_tensor\u001b[0m \u001b[0;34m=\u001b[0m \u001b[0mmodel\u001b[0m\u001b[0;34m(\u001b[0m\u001b[0minput_tensor\u001b[0m\u001b[0;34m)\u001b[0m\u001b[0;34m\u001b[0m\u001b[0;34m\u001b[0m\u001b[0m\n\u001b[0m",
            "\u001b[0;32m/usr/local/lib/python3.10/dist-packages/torch/nn/modules/module.py\u001b[0m in \u001b[0;36m_call_impl\u001b[0;34m(self, *args, **kwargs)\u001b[0m\n\u001b[1;32m   1499\u001b[0m                 \u001b[0;32mor\u001b[0m \u001b[0m_global_backward_pre_hooks\u001b[0m \u001b[0;32mor\u001b[0m \u001b[0m_global_backward_hooks\u001b[0m\u001b[0;34m\u001b[0m\u001b[0;34m\u001b[0m\u001b[0m\n\u001b[1;32m   1500\u001b[0m                 or _global_forward_hooks or _global_forward_pre_hooks):\n\u001b[0;32m-> 1501\u001b[0;31m             \u001b[0;32mreturn\u001b[0m \u001b[0mforward_call\u001b[0m\u001b[0;34m(\u001b[0m\u001b[0;34m*\u001b[0m\u001b[0margs\u001b[0m\u001b[0;34m,\u001b[0m \u001b[0;34m**\u001b[0m\u001b[0mkwargs\u001b[0m\u001b[0;34m)\u001b[0m\u001b[0;34m\u001b[0m\u001b[0;34m\u001b[0m\u001b[0m\n\u001b[0m\u001b[1;32m   1502\u001b[0m         \u001b[0;31m# Do not call functions when jit is used\u001b[0m\u001b[0;34m\u001b[0m\u001b[0;34m\u001b[0m\u001b[0m\n\u001b[1;32m   1503\u001b[0m         \u001b[0mfull_backward_hooks\u001b[0m\u001b[0;34m,\u001b[0m \u001b[0mnon_full_backward_hooks\u001b[0m \u001b[0;34m=\u001b[0m \u001b[0;34m[\u001b[0m\u001b[0;34m]\u001b[0m\u001b[0;34m,\u001b[0m \u001b[0;34m[\u001b[0m\u001b[0;34m]\u001b[0m\u001b[0;34m\u001b[0m\u001b[0;34m\u001b[0m\u001b[0m\n",
            "\u001b[0;32m<ipython-input-4-bda6a3b546fa>\u001b[0m in \u001b[0;36mforward\u001b[0;34m(self, x)\u001b[0m\n\u001b[1;32m     64\u001b[0m         \u001b[0mx\u001b[0m \u001b[0;34m=\u001b[0m \u001b[0mself\u001b[0m\u001b[0;34m.\u001b[0m\u001b[0mexpanding1\u001b[0m\u001b[0;34m(\u001b[0m\u001b[0mx4\u001b[0m\u001b[0;34m)\u001b[0m                               \u001b[0;31m# Apply expanding block 1\u001b[0m\u001b[0;34m\u001b[0m\u001b[0;34m\u001b[0m\u001b[0m\n\u001b[1;32m     65\u001b[0m         \u001b[0mprint\u001b[0m\u001b[0;34m(\u001b[0m\u001b[0;34mf\"x: {x.shape}\"\u001b[0m\u001b[0;34m)\u001b[0m\u001b[0;34m\u001b[0m\u001b[0;34m\u001b[0m\u001b[0m\n\u001b[0;32m---> 66\u001b[0;31m         \u001b[0mx\u001b[0m \u001b[0;34m=\u001b[0m \u001b[0mself\u001b[0m\u001b[0;34m.\u001b[0m\u001b[0mexpanding2\u001b[0m\u001b[0;34m(\u001b[0m\u001b[0mtorch\u001b[0m\u001b[0;34m.\u001b[0m\u001b[0mcat\u001b[0m\u001b[0;34m(\u001b[0m\u001b[0;34m[\u001b[0m\u001b[0mx\u001b[0m\u001b[0;34m,\u001b[0m \u001b[0mx3\u001b[0m\u001b[0;34m]\u001b[0m\u001b[0;34m,\u001b[0m \u001b[0mdim\u001b[0m\u001b[0;34m=\u001b[0m\u001b[0;36m1\u001b[0m\u001b[0;34m)\u001b[0m\u001b[0;34m)\u001b[0m        \u001b[0;31m# Concatenate features from contracting block 3 and apply expanding block 2\u001b[0m\u001b[0;34m\u001b[0m\u001b[0;34m\u001b[0m\u001b[0m\n\u001b[0m\u001b[1;32m     67\u001b[0m         \u001b[0mprint\u001b[0m\u001b[0;34m(\u001b[0m\u001b[0;34mf\"x: {x.shape}\"\u001b[0m\u001b[0;34m)\u001b[0m\u001b[0;34m\u001b[0m\u001b[0;34m\u001b[0m\u001b[0m\n\u001b[1;32m     68\u001b[0m         \u001b[0mx\u001b[0m \u001b[0;34m=\u001b[0m \u001b[0mself\u001b[0m\u001b[0;34m.\u001b[0m\u001b[0mexpanding3\u001b[0m\u001b[0;34m(\u001b[0m\u001b[0mtorch\u001b[0m\u001b[0;34m.\u001b[0m\u001b[0mcat\u001b[0m\u001b[0;34m(\u001b[0m\u001b[0;34m[\u001b[0m\u001b[0mx\u001b[0m\u001b[0;34m,\u001b[0m \u001b[0mx2\u001b[0m\u001b[0;34m]\u001b[0m\u001b[0;34m,\u001b[0m \u001b[0mdim\u001b[0m\u001b[0;34m=\u001b[0m\u001b[0;36m1\u001b[0m\u001b[0;34m)\u001b[0m\u001b[0;34m)\u001b[0m        \u001b[0;31m# Concatenate features from contracting block 2 and apply expanding block 3\u001b[0m\u001b[0;34m\u001b[0m\u001b[0;34m\u001b[0m\u001b[0m\n",
            "\u001b[0;32m/usr/local/lib/python3.10/dist-packages/torch/nn/modules/module.py\u001b[0m in \u001b[0;36m_call_impl\u001b[0;34m(self, *args, **kwargs)\u001b[0m\n\u001b[1;32m   1499\u001b[0m                 \u001b[0;32mor\u001b[0m \u001b[0m_global_backward_pre_hooks\u001b[0m \u001b[0;32mor\u001b[0m \u001b[0m_global_backward_hooks\u001b[0m\u001b[0;34m\u001b[0m\u001b[0;34m\u001b[0m\u001b[0m\n\u001b[1;32m   1500\u001b[0m                 or _global_forward_hooks or _global_forward_pre_hooks):\n\u001b[0;32m-> 1501\u001b[0;31m             \u001b[0;32mreturn\u001b[0m \u001b[0mforward_call\u001b[0m\u001b[0;34m(\u001b[0m\u001b[0;34m*\u001b[0m\u001b[0margs\u001b[0m\u001b[0;34m,\u001b[0m \u001b[0;34m**\u001b[0m\u001b[0mkwargs\u001b[0m\u001b[0;34m)\u001b[0m\u001b[0;34m\u001b[0m\u001b[0;34m\u001b[0m\u001b[0m\n\u001b[0m\u001b[1;32m   1502\u001b[0m         \u001b[0;31m# Do not call functions when jit is used\u001b[0m\u001b[0;34m\u001b[0m\u001b[0;34m\u001b[0m\u001b[0m\n\u001b[1;32m   1503\u001b[0m         \u001b[0mfull_backward_hooks\u001b[0m\u001b[0;34m,\u001b[0m \u001b[0mnon_full_backward_hooks\u001b[0m \u001b[0;34m=\u001b[0m \u001b[0;34m[\u001b[0m\u001b[0;34m]\u001b[0m\u001b[0;34m,\u001b[0m \u001b[0;34m[\u001b[0m\u001b[0;34m]\u001b[0m\u001b[0;34m\u001b[0m\u001b[0;34m\u001b[0m\u001b[0m\n",
            "\u001b[0;32m/usr/local/lib/python3.10/dist-packages/torch/nn/modules/container.py\u001b[0m in \u001b[0;36mforward\u001b[0;34m(self, input)\u001b[0m\n\u001b[1;32m    215\u001b[0m     \u001b[0;32mdef\u001b[0m \u001b[0mforward\u001b[0m\u001b[0;34m(\u001b[0m\u001b[0mself\u001b[0m\u001b[0;34m,\u001b[0m \u001b[0minput\u001b[0m\u001b[0;34m)\u001b[0m\u001b[0;34m:\u001b[0m\u001b[0;34m\u001b[0m\u001b[0;34m\u001b[0m\u001b[0m\n\u001b[1;32m    216\u001b[0m         \u001b[0;32mfor\u001b[0m \u001b[0mmodule\u001b[0m \u001b[0;32min\u001b[0m \u001b[0mself\u001b[0m\u001b[0;34m:\u001b[0m\u001b[0;34m\u001b[0m\u001b[0;34m\u001b[0m\u001b[0m\n\u001b[0;32m--> 217\u001b[0;31m             \u001b[0minput\u001b[0m \u001b[0;34m=\u001b[0m \u001b[0mmodule\u001b[0m\u001b[0;34m(\u001b[0m\u001b[0minput\u001b[0m\u001b[0;34m)\u001b[0m\u001b[0;34m\u001b[0m\u001b[0;34m\u001b[0m\u001b[0m\n\u001b[0m\u001b[1;32m    218\u001b[0m         \u001b[0;32mreturn\u001b[0m \u001b[0minput\u001b[0m\u001b[0;34m\u001b[0m\u001b[0;34m\u001b[0m\u001b[0m\n\u001b[1;32m    219\u001b[0m \u001b[0;34m\u001b[0m\u001b[0m\n",
            "\u001b[0;32m/usr/local/lib/python3.10/dist-packages/torch/nn/modules/module.py\u001b[0m in \u001b[0;36m_call_impl\u001b[0;34m(self, *args, **kwargs)\u001b[0m\n\u001b[1;32m   1499\u001b[0m                 \u001b[0;32mor\u001b[0m \u001b[0m_global_backward_pre_hooks\u001b[0m \u001b[0;32mor\u001b[0m \u001b[0m_global_backward_hooks\u001b[0m\u001b[0;34m\u001b[0m\u001b[0;34m\u001b[0m\u001b[0m\n\u001b[1;32m   1500\u001b[0m                 or _global_forward_hooks or _global_forward_pre_hooks):\n\u001b[0;32m-> 1501\u001b[0;31m             \u001b[0;32mreturn\u001b[0m \u001b[0mforward_call\u001b[0m\u001b[0;34m(\u001b[0m\u001b[0;34m*\u001b[0m\u001b[0margs\u001b[0m\u001b[0;34m,\u001b[0m \u001b[0;34m**\u001b[0m\u001b[0mkwargs\u001b[0m\u001b[0;34m)\u001b[0m\u001b[0;34m\u001b[0m\u001b[0;34m\u001b[0m\u001b[0m\n\u001b[0m\u001b[1;32m   1502\u001b[0m         \u001b[0;31m# Do not call functions when jit is used\u001b[0m\u001b[0;34m\u001b[0m\u001b[0;34m\u001b[0m\u001b[0m\n\u001b[1;32m   1503\u001b[0m         \u001b[0mfull_backward_hooks\u001b[0m\u001b[0;34m,\u001b[0m \u001b[0mnon_full_backward_hooks\u001b[0m \u001b[0;34m=\u001b[0m \u001b[0;34m[\u001b[0m\u001b[0;34m]\u001b[0m\u001b[0;34m,\u001b[0m \u001b[0;34m[\u001b[0m\u001b[0;34m]\u001b[0m\u001b[0;34m\u001b[0m\u001b[0;34m\u001b[0m\u001b[0m\n",
            "\u001b[0;32m/usr/local/lib/python3.10/dist-packages/torch/nn/modules/conv.py\u001b[0m in \u001b[0;36mforward\u001b[0;34m(self, input)\u001b[0m\n\u001b[1;32m    461\u001b[0m \u001b[0;34m\u001b[0m\u001b[0m\n\u001b[1;32m    462\u001b[0m     \u001b[0;32mdef\u001b[0m \u001b[0mforward\u001b[0m\u001b[0;34m(\u001b[0m\u001b[0mself\u001b[0m\u001b[0;34m,\u001b[0m \u001b[0minput\u001b[0m\u001b[0;34m:\u001b[0m \u001b[0mTensor\u001b[0m\u001b[0;34m)\u001b[0m \u001b[0;34m->\u001b[0m \u001b[0mTensor\u001b[0m\u001b[0;34m:\u001b[0m\u001b[0;34m\u001b[0m\u001b[0;34m\u001b[0m\u001b[0m\n\u001b[0;32m--> 463\u001b[0;31m         \u001b[0;32mreturn\u001b[0m \u001b[0mself\u001b[0m\u001b[0;34m.\u001b[0m\u001b[0m_conv_forward\u001b[0m\u001b[0;34m(\u001b[0m\u001b[0minput\u001b[0m\u001b[0;34m,\u001b[0m \u001b[0mself\u001b[0m\u001b[0;34m.\u001b[0m\u001b[0mweight\u001b[0m\u001b[0;34m,\u001b[0m \u001b[0mself\u001b[0m\u001b[0;34m.\u001b[0m\u001b[0mbias\u001b[0m\u001b[0;34m)\u001b[0m\u001b[0;34m\u001b[0m\u001b[0;34m\u001b[0m\u001b[0m\n\u001b[0m\u001b[1;32m    464\u001b[0m \u001b[0;34m\u001b[0m\u001b[0m\n\u001b[1;32m    465\u001b[0m \u001b[0;32mclass\u001b[0m \u001b[0mConv3d\u001b[0m\u001b[0;34m(\u001b[0m\u001b[0m_ConvNd\u001b[0m\u001b[0;34m)\u001b[0m\u001b[0;34m:\u001b[0m\u001b[0;34m\u001b[0m\u001b[0;34m\u001b[0m\u001b[0m\n",
            "\u001b[0;32m/usr/local/lib/python3.10/dist-packages/torch/nn/modules/conv.py\u001b[0m in \u001b[0;36m_conv_forward\u001b[0;34m(self, input, weight, bias)\u001b[0m\n\u001b[1;32m    457\u001b[0m                             \u001b[0mweight\u001b[0m\u001b[0;34m,\u001b[0m \u001b[0mbias\u001b[0m\u001b[0;34m,\u001b[0m \u001b[0mself\u001b[0m\u001b[0;34m.\u001b[0m\u001b[0mstride\u001b[0m\u001b[0;34m,\u001b[0m\u001b[0;34m\u001b[0m\u001b[0;34m\u001b[0m\u001b[0m\n\u001b[1;32m    458\u001b[0m                             _pair(0), self.dilation, self.groups)\n\u001b[0;32m--> 459\u001b[0;31m         return F.conv2d(input, weight, bias, self.stride,\n\u001b[0m\u001b[1;32m    460\u001b[0m                         self.padding, self.dilation, self.groups)\n\u001b[1;32m    461\u001b[0m \u001b[0;34m\u001b[0m\u001b[0m\n",
            "\u001b[0;31mRuntimeError\u001b[0m: Given groups=1, weight of size [128, 256, 3, 3], expected input[1, 768, 32, 32] to have 256 channels, but got 768 channels instead"
          ]
        }
      ]
    },
    {
      "cell_type": "code",
      "source": [
        "import torch\n",
        "import torch.nn as nn\n",
        "\n",
        "class SimpleUNet(nn.Module):\n",
        "    def __init__(self):\n",
        "        super(SimpleUNet, self).__init__()\n",
        "\n",
        "        # Contracting path\n",
        "        self.conv1 = nn.Conv2d(3, 64, kernel_size=3, padding=1)\n",
        "        self.relu1 = nn.ReLU(inplace=True)\n",
        "        self.maxpool1 = nn.MaxPool2d(kernel_size=2, stride=2)\n",
        "\n",
        "        self.conv2 = nn.Conv2d(64, 128, kernel_size=3, padding=1)\n",
        "        self.relu2 = nn.ReLU(inplace=True)\n",
        "        self.maxpool2 = nn.MaxPool2d(kernel_size=2, stride=2)\n",
        "\n",
        "        self.conv3 = nn.Conv2d(128, 256, kernel_size=3, padding=1)\n",
        "        self.relu3 = nn.ReLU(inplace=True)\n",
        "        self.maxpool3 = nn.MaxPool2d(kernel_size=2, stride=2)\n",
        "\n",
        "        # Expanding path\n",
        "        self.upconv1 = nn.ConvTranspose2d(256, 128, kernel_size=2, stride=2)\n",
        "        self.conv4 = nn.Conv2d(384, 192, kernel_size=3, padding=1)\n",
        "        self.relu4 = nn.ReLU(inplace=True)\n",
        "\n",
        "        self.upconv2 = nn.ConvTranspose2d(192, 64, kernel_size=2, stride=2)\n",
        "        self.conv5 = nn.Conv2d(192, 64, kernel_size=3, padding=1)\n",
        "        self.relu5 = nn.ReLU(inplace=True)\n",
        "\n",
        "        self.upconv3 = nn.ConvTranspose2d(64, 3, kernel_size=2, stride=2)\n",
        "        self.conv6 = nn.Conv2d(67, 3, kernel_size=3, padding=1)  # Update number of input channels\n",
        "        self.relu6 = nn.ReLU(inplace=True)\n",
        "\n",
        "    def forward(self, x):\n",
        "        # Contracting path\n",
        "        x1 = self.relu1(self.conv1(x))\n",
        "        #print(f\"x1: {x.shape}\")\n",
        "        x = self.maxpool1(x1)\n",
        "        #print(f\"x-1 : {x.shape}\")\n",
        "\n",
        "        x2 = self.relu2(self.conv2(x))\n",
        "        #print(f\"x2: {x2.shape}\")\n",
        "        x = self.maxpool2(x2)\n",
        "        #print(f\"x-2: {x.shape}\")\n",
        "\n",
        "        x3 = self.relu3(self.conv3(x))\n",
        "        #print(f\"x3: {x3.shape}\")\n",
        "        x = self.maxpool3(x3)\n",
        "        #print(f\"x-3: {x.shape}\")\n",
        "\n",
        "        # Expanding path\n",
        "        x = self.upconv1(x)\n",
        "        #print(f\"x-4: {x.shape}\")\n",
        "        x = torch.cat([x, x3], dim=1)\n",
        "        #print(f\"x-5: {x.shape}\")\n",
        "        x = self.relu4(self.conv4(x))\n",
        "        #print(f\"x-6: {x.shape}\")\n",
        "\n",
        "        x = self.upconv2(x)\n",
        "        #print(f\"x-7: {x.shape}\")\n",
        "        x = torch.cat([x, x2], dim=1)\n",
        "        #print(f\"x-8: {x.shape}\")\n",
        "        x = self.relu5(self.conv5(x))\n",
        "        #print(f\"x-9: {x.shape}\")\n",
        "\n",
        "        x = self.upconv3(x)\n",
        "        #print(f\"x-10: {x.shape}\")\n",
        "        x = torch.cat([x, x1], dim=1)\n",
        "        #print(f\"x-11: {x.shape}\")\n",
        "        x = self.relu6(self.conv6(x))\n",
        "        #print(f\"x-12: {x.shape}\")\n",
        "\n",
        "        return x\n",
        "\n",
        "# Create an instance of the UNet model\n",
        "model = SimpleUNet()\n",
        "\n",
        "# Test the model with a random input\n",
        "input_tensor = torch.randn(1, 3, 256, 256)\n",
        "output_tensor = model(input_tensor)\n"
      ],
      "metadata": {
        "id": "KNJHNs8zjovr"
      },
      "execution_count": 9,
      "outputs": []
    },
    {
      "cell_type": "code",
      "source": [
        "class CustomLoss(nn.Module):\n",
        "    def __init__(self, other_model):\n",
        "        super(CustomLoss, self).__init__()\n",
        "        self.cnn = other_model\n",
        "\n",
        "    def forward(self, output, targets):\n",
        "        # Perform forward pass with the other model\n",
        "        outputs = self.cnn(output)\n",
        "        probabilities = torch.softmax(outputs, dim=1)\n",
        "        _, predicted = torch.max(outputs, dim=1)\n",
        "        mse = nn.MSELoss()\n",
        "        #loss = mse(output,targets)\n",
        "        loss = mse(F.cross_correlation(output, targets), targets)\n",
        "        #print(mse_loss)\n",
        "        #print(predicted.tolist()[0])\n",
        "        if predicted.tolist()[0] == 1:\n",
        "          #print(probabilities[0])\n",
        "          mse_loss += probabilities[0][1].item()\n",
        "\n",
        "        return mse_loss"
      ],
      "metadata": {
        "id": "2FhQaV7nDkzm"
      },
      "execution_count": 63,
      "outputs": []
    },
    {
      "cell_type": "code",
      "source": [
        "from torchsummary import summary\n",
        "summary(model,(3,256,256))"
      ],
      "metadata": {
        "colab": {
          "base_uri": "https://localhost:8080/"
        },
        "id": "EPMjBzBeFIlQ",
        "outputId": "56d7b116-129a-4874-892f-704d74411238"
      },
      "execution_count": 27,
      "outputs": [
        {
          "output_type": "stream",
          "name": "stdout",
          "text": [
            "----------------------------------------------------------------\n",
            "        Layer (type)               Output Shape         Param #\n",
            "================================================================\n",
            "            Conv2d-1         [-1, 64, 256, 256]           1,792\n",
            "              ReLU-2         [-1, 64, 256, 256]               0\n",
            "         MaxPool2d-3         [-1, 64, 128, 128]               0\n",
            "            Conv2d-4        [-1, 128, 128, 128]          73,856\n",
            "              ReLU-5        [-1, 128, 128, 128]               0\n",
            "         MaxPool2d-6          [-1, 128, 64, 64]               0\n",
            "            Conv2d-7          [-1, 256, 64, 64]         295,168\n",
            "              ReLU-8          [-1, 256, 64, 64]               0\n",
            "         MaxPool2d-9          [-1, 256, 32, 32]               0\n",
            "  ConvTranspose2d-10          [-1, 128, 64, 64]         131,200\n",
            "           Conv2d-11          [-1, 192, 64, 64]         663,744\n",
            "             ReLU-12          [-1, 192, 64, 64]               0\n",
            "  ConvTranspose2d-13         [-1, 64, 128, 128]          49,216\n",
            "           Conv2d-14         [-1, 64, 128, 128]         110,656\n",
            "             ReLU-15         [-1, 64, 128, 128]               0\n",
            "  ConvTranspose2d-16          [-1, 3, 256, 256]             771\n",
            "           Conv2d-17          [-1, 3, 256, 256]           1,812\n",
            "             ReLU-18          [-1, 3, 256, 256]               0\n",
            "================================================================\n",
            "Total params: 1,328,215\n",
            "Trainable params: 1,328,215\n",
            "Non-trainable params: 0\n",
            "----------------------------------------------------------------\n",
            "Input size (MB): 0.75\n",
            "Forward/backward pass size (MB): 170.50\n",
            "Params size (MB): 5.07\n",
            "Estimated Total Size (MB): 176.32\n",
            "----------------------------------------------------------------\n"
          ]
        }
      ]
    },
    {
      "cell_type": "code",
      "source": [
        "cnn = torch.load( '/content/drive/MyDrive/final_project_data/posture_cnn.pth')\n",
        "cnn.eval()\n",
        "summary(cnn,(3,256,256))"
      ],
      "metadata": {
        "colab": {
          "base_uri": "https://localhost:8080/"
        },
        "id": "8dNO8sV2FRrq",
        "outputId": "1946d2da-fd74-4fb1-8fdb-f979f0fe29a1"
      },
      "execution_count": 28,
      "outputs": [
        {
          "output_type": "stream",
          "name": "stdout",
          "text": [
            "----------------------------------------------------------------\n",
            "        Layer (type)               Output Shape         Param #\n",
            "================================================================\n",
            "            Conv2d-1         [-1, 32, 256, 256]             896\n",
            "              ReLU-2         [-1, 32, 256, 256]               0\n",
            "         MaxPool2d-3         [-1, 32, 128, 128]               0\n",
            "            Conv2d-4         [-1, 64, 128, 128]          18,496\n",
            "              ReLU-5         [-1, 64, 128, 128]               0\n",
            "         MaxPool2d-6           [-1, 64, 64, 64]               0\n",
            "            Linear-7                  [-1, 128]      33,554,560\n",
            "              ReLU-8                  [-1, 128]               0\n",
            "            Linear-9                    [-1, 2]             258\n",
            "          Softmax-10                    [-1, 2]               0\n",
            "================================================================\n",
            "Total params: 33,574,210\n",
            "Trainable params: 33,574,210\n",
            "Non-trainable params: 0\n",
            "----------------------------------------------------------------\n",
            "Input size (MB): 0.75\n",
            "Forward/backward pass size (MB): 54.00\n",
            "Params size (MB): 128.08\n",
            "Estimated Total Size (MB): 182.83\n",
            "----------------------------------------------------------------\n"
          ]
        }
      ]
    },
    {
      "cell_type": "code",
      "source": [
        "import torch.optim as optim\n",
        "lr = 0.001\n",
        "momentum = 0.9\n",
        "optimizer = optim.SGD(model.parameters(),lr=lr,momentum=momentum)\n",
        "crit = CustomLoss(cnn)\n",
        "train(model,train_loader,optimizer,10,nn.CrossEntropyLoss())"
      ],
      "metadata": {
        "colab": {
          "base_uri": "https://localhost:8080/"
        },
        "id": "AcUq6xISnFCO",
        "outputId": "15160793-8bb6-4d18-da0d-0b800935c8df"
      },
      "execution_count": 65,
      "outputs": [
        {
          "output_type": "stream",
          "name": "stdout",
          "text": [
            "Epoch [1/10], Loss: 0.1392629292483131\n",
            "Epoch [2/10], Loss: 0.1419758095095555\n",
            "Epoch [3/10], Loss: 0.14664138232668242\n",
            "Epoch [4/10], Loss: 0.1419088061278065\n",
            "Epoch [5/10], Loss: 0.13101823752125105\n",
            "Epoch [6/10], Loss: 0.14639992142717043\n",
            "Epoch [7/10], Loss: 0.16388932522386312\n",
            "Epoch [8/10], Loss: 0.15920861655225357\n",
            "Epoch [9/10], Loss: 0.1828370966638128\n",
            "Epoch [10/10], Loss: 0.14153640593091646\n"
          ]
        }
      ]
    },
    {
      "cell_type": "code",
      "source": [
        "input,output = next(iter(train_loader))\n",
        "\n",
        "print(input.shape)\n",
        "# Create a figure with two subplots\n",
        "fig, axs = plt.subplots(1, 2)\n",
        "\n",
        "# Plot image1 in the first subplot\n",
        "first = input.squeeze().permute(1,2,0)\n",
        "second = output.squeeze().permute(1,2,0)\n",
        "axs[0].imshow(first)\n",
        "axs[0].axis('off')\n",
        "\n",
        "# Plot image2 in the second subplot\n",
        "axs[1].imshow(second)\n",
        "axs[1].axis('off')\n",
        "\n",
        "# Adjust the spacing between subplots\n",
        "plt.subplots_adjust(wspace=0.05)\n",
        "\n",
        "# Display the figure\n",
        "plt.show()"
      ],
      "metadata": {
        "colab": {
          "base_uri": "https://localhost:8080/",
          "height": 295
        },
        "id": "Xrgk571GnbJd",
        "outputId": "6f5f06db-28b3-41bd-ea55-60f6ec44b882"
      },
      "execution_count": 66,
      "outputs": [
        {
          "output_type": "stream",
          "name": "stdout",
          "text": [
            "torch.Size([1, 3, 256, 256])\n"
          ]
        },
        {
          "output_type": "display_data",
          "data": {
            "text/plain": [
              "<Figure size 640x480 with 2 Axes>"
            ],
            "image/png": "[encoded data removed]"
          },
          "metadata": {}
        }
      ]
    },
    {
      "cell_type": "code",
      "source": [
        "save = output"
      ],
      "metadata": {
        "id": "s7XIlLBXG11r"
      },
      "execution_count": 67,
      "outputs": []
    },
    {
      "cell_type": "code",
      "source": [
        "model.eval()\n",
        "with torch.no_grad():\n",
        "  output = model(input)"
      ],
      "metadata": {
        "id": "COsvjkzJo6e1"
      },
      "execution_count": 68,
      "outputs": []
    },
    {
      "cell_type": "code",
      "source": [
        "output.shape"
      ],
      "metadata": {
        "colab": {
          "base_uri": "https://localhost:8080/"
        },
        "id": "RKQKjdRwo9A7",
        "outputId": "114f0b23-eb04-45b0-aae6-047ed36856fb"
      },
      "execution_count": 69,
      "outputs": [
        {
          "output_type": "execute_result",
          "data": {
            "text/plain": [
              "torch.Size([1, 3, 256, 256])"
            ]
          },
          "metadata": {},
          "execution_count": 69
        }
      ]
    },
    {
      "cell_type": "code",
      "source": [
        "# Create a figure with two subplots\n",
        "fig, axs = plt.subplots(1, 2)\n",
        "\n",
        "# Plot image1 in the first subplot\n",
        "first = input.squeeze().permute(1,2,0)\n",
        "second = output.squeeze().permute(1,2,0)\n",
        "axs[0].imshow(first)\n",
        "axs[0].axis('off')\n",
        "\n",
        "# Plot image2 in the second subplot\n",
        "axs[1].imshow(second)\n",
        "axs[1].axis('off')\n",
        "\n",
        "# Adjust the spacing between subplots\n",
        "plt.subplots_adjust(wspace=0.05)\n",
        "\n",
        "# Display the figure\n",
        "plt.show()"
      ],
      "metadata": {
        "colab": {
          "base_uri": "https://localhost:8080/",
          "height": 278
        },
        "id": "PJYdra3jo_i7",
        "outputId": "112dcfb8-480d-46dc-f382-06580fd187d3"
      },
      "execution_count": 70,
      "outputs": [
        {
          "output_type": "display_data",
          "data": {
            "text/plain": [
              "<Figure size 640x480 with 2 Axes>"
            ],
            "image/png": "[encoded data removed]"
          },
          "metadata": {}
        }
      ]
    },
    {
      "cell_type": "code",
      "source": [
        "\n",
        "\n",
        "outputs = cnn(output)\n",
        "probabilities = torch.softmax(outputs, dim=1)\n",
        "_, predicted = torch.max(outputs, dim=1)\n",
        "print(probabilities)\n",
        "print(predicted[0])"
      ],
      "metadata": {
        "id": "sV1WkKqspD5v",
        "colab": {
          "base_uri": "https://localhost:8080/"
        },
        "outputId": "04fa1201-0517-4e02-b6eb-18dd8499cd90"
      },
      "execution_count": 61,
      "outputs": [
        {
          "output_type": "stream",
          "name": "stdout",
          "text": [
            "tensor([[0.3132, 0.6868]], grad_fn=<SoftmaxBackward0>)\n",
            "tensor(1)\n"
          ]
        }
      ]
    },
    {
      "cell_type": "code",
      "source": [
        "print(crit(output,save))"
      ],
      "metadata": {
        "colab": {
          "base_uri": "https://localhost:8080/"
        },
        "id": "LrGu2JFCC0uR",
        "outputId": "e87fb2bf-a396-4d91-d03c-c62ee7d9d372"
      },
      "execution_count": 62,
      "outputs": [
        {
          "output_type": "stream",
          "name": "stdout",
          "text": [
            "tensor(0.7129)\n"
          ]
        }
      ]
    },
    {
      "cell_type": "code",
      "source": [
        "class PostureNet(nn.Module):\n",
        "    def __init__(self):\n",
        "        super(PostureNet, self).__init__()\n",
        "        \n",
        "        # Convolutional layers\n",
        "        self.conv1 = nn.Conv2d(3, 32, kernel_size=3, stride=1, padding=1)\n",
        "        self.relu1 = nn.ReLU()\n",
        "        self.pool1 = nn.MaxPool2d(kernel_size=2, stride=2)\n",
        "        \n",
        "        self.conv2 = nn.Conv2d(32, 64, kernel_size=3, stride=1, padding=1)\n",
        "        self.relu2 = nn.ReLU()\n",
        "        self.pool2 = nn.MaxPool2d(kernel_size=2, stride=2)\n",
        "        \n",
        "        # Fully connected layers\n",
        "        self.fc1 = nn.Linear(64 * (256 // 4) * (256 // 4), 128)\n",
        "        self.relu3 = nn.ReLU()\n",
        "        self.fc2 = nn.Linear(128, 2)\n",
        "        self.softmax = nn.Softmax(dim=1)\n",
        "        \n",
        "    def forward(self, x):\n",
        "        x = self.conv1(x)\n",
        "        x = self.relu1(x)\n",
        "        x = self.pool1(x)\n",
        "        \n",
        "        x = self.conv2(x)\n",
        "        x = self.relu2(x)\n",
        "        x = self.pool2(x)\n",
        "        \n",
        "        x = x.view(x.size(0), -1)  # Flatten the feature maps\n",
        "        \n",
        "        x = self.fc1(x)\n",
        "        x = self.relu3(x)\n",
        "        x = self.fc2(x)\n",
        "        x = self.softmax(x)\n",
        "        \n",
        "        return x\n"
      ],
      "metadata": {
        "id": "u-dG2blvDDZt"
      },
      "execution_count": 18,
      "outputs": []
    },
    {
      "cell_type": "code",
      "source": [],
      "metadata": {
        "id": "PdH9w51kDJVO"
      },
      "execution_count": null,
      "outputs": []
    }
  ]
}